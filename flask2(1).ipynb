{
 "cells": [
  {
   "cell_type": "markdown",
   "id": "9b98e684-9950-4328-860f-e2ddbc967e9e",
   "metadata": {},
   "source": [
    "                                            Assignment flask - 2"
   ]
  },
  {
   "cell_type": "markdown",
   "id": "6ccd22e0-78fb-4060-9612-a0a1d9dc6a42",
   "metadata": {},
   "source": [
    "Q1. Explain GET and POST methods."
   ]
  },
  {
   "cell_type": "markdown",
   "id": "30f57462-f522-48f7-9f86-d4198895d9b6",
   "metadata": {},
   "source": [
    "   GET method:-\n",
    "    \n",
    "              GET method is used to retrieve or request data from a server.\n",
    "              When a client sends a GET request, the server processes the \n",
    "              request and returns the requested data in the response.\n",
    "                The data is appended to the URL as query parameters\n",
    "                \n",
    "    >GET requests can be cached by the browser or other intermediary systems because they\n",
    "             are considered to be idempotent \n",
    "        \n",
    "    >The data sent via GET requests is visible in the URL, which means it can be bookmarked or shared.\n",
    "    \n",
    "    \n",
    "    >GET requests have limitations on the length of the URL and the amount of data that can be sent.\n",
    "    \n",
    "    \n",
    "    \n",
    "    POST method:- POST method is used to submit data to be processed by the server.\n",
    "                   When a client sends a POST request, the data is included in the body\n",
    "                    of the request instead of the URL. This method is commonly used when\n",
    "                    submitting forms, sending user input, or performing actions that modify\n",
    "                    data on the server.\n",
    "    \n",
    "    \n",
    "    >POST requests are not cached by default, as they are considered non-idempotent \n",
    "    \n",
    "    >data sent via POST requests is not visible in the URL, providing more security for sensitive information.\n",
    "    \n",
    "    >POST requests do not have limitations on the length of the URL or the amount of data that can be sent.\n",
    "    \n",
    "                    "
   ]
  },
  {
   "cell_type": "markdown",
   "id": "8b2de120-98cb-43cc-aa28-09a25ddc0b4c",
   "metadata": {},
   "source": [
    "Q2. Why is request used in Flask?"
   ]
  },
  {
   "cell_type": "markdown",
   "id": "fee24b5e-44c6-4c64-9291-fb284d7bd784",
   "metadata": {},
   "source": [
    "request object in Flask is used to access the data that is sent from the client to the server.\n",
    "\n",
    "\n",
    "\n",
    "    The HTTP method used to make the request\n",
    "    The URL of the request\n",
    "    The headers of the request\n",
    "    The body of the request\n",
    "    The cookies of the request\n",
    "The request object is a very powerful tool that can be used to process incoming data and generate responses. \n",
    "\n",
    "\n",
    "\n",
    "    Get the user's input from a form\n",
    "    Upload files\n",
    "    Process cookies\n",
    "    Implement authentication and authorization\n",
    "\n",
    "    \n",
    "    The request object is a central part of Flask, and it is used in almost every Flask application.\n",
    "        If you are new to Flask, I recommend that you take some time to learn about the request object.\n",
    "        \n",
    "        \n",
    "        To get the user's input from a form, you can use the request.form attribute. \n",
    "          This attribute is a dictionary that contains the key-value pairs of the form data.\n",
    "            \n",
    "        To upload files, you can use the request.\n",
    "        files attribute. This attribute is a dictionary that contains the files that were uploaded by the user.\n",
    "        \n",
    "       To process cookies, you can use the request.cookies attribute.\n",
    "          This attribute is a dictionary that contains the cookies that were sent by the client \n",
    "        \n",
    "        To implement authentication and authorization, you can use the request.user attribute.\n",
    "            This attribute contains the user object if the user is authenticated, or None if the user is not authenticated."
   ]
  },
  {
   "cell_type": "markdown",
   "id": "49391a1a-e64d-4422-b527-314996d31746",
   "metadata": {},
   "source": [
    "Q3. Why is redirect() used in Flask?"
   ]
  },
  {
   "cell_type": "markdown",
   "id": "4e8a04c5-48ea-4898-a819-0b3794ced3a3",
   "metadata": {},
   "source": [
    " redirect() function in Flask is used to redirect the user to a different URL.\n",
    "              This can be useful for a variety of reasons,\n",
    "        \n",
    "        \n",
    "        \n",
    "    >To redirect the user to a new page after they have logged in or out.\n",
    "   > To redirect the user to a different page if the requested page does not exist.\n",
    "    >To redirect the user to a different page if the requested page has been moved.\n",
    "    \n",
    "    \n",
    "    redirect() function takes two arguments: the URL that you want to redirect the user to,\n",
    "          and the HTTP status code that you want to use for the redirect.\n",
    "          The default HTTP status code is 302, which means \"Found\".\n",
    "          However, you can also use other status codes\n",
    "           such as 301 (Moved Permanently) or 307 (Temporary Redirect).\n"
   ]
  },
  {
   "cell_type": "markdown",
   "id": "a5aa7377-c7bd-489c-9c9f-389b572e8c1e",
   "metadata": {},
   "source": [
    "from flask import Flask\n",
    "\n",
    "app = Flask(__name__)\n",
    "\n",
    "@app.route(\"/login\")\n",
    "def login():\n",
    "    if not current_user.is_authenticated:\n",
    "        return redirect(\"/login\", code=302)\n",
    "    else:\n",
    "        return \"You are already logged in!\"\n",
    "\n",
    "if __name__ == \"__main__\":\n",
    "    app.run(debug=True)"
   ]
  },
  {
   "cell_type": "markdown",
   "id": "aec7f3f0-64b1-4719-a9fc-fd48b863b746",
   "metadata": {},
   "source": [
    "Q4. What are templates in Flask? Why is the render_template() function used?"
   ]
  },
  {
   "cell_type": "raw",
   "id": "9b8ca5a0-93a8-4eea-8378-62d5ff279756",
   "metadata": {},
   "source": [
    "    Templates in Flask are HTML files that are used to render dynamic content.\n",
    "     They are used to separate the presentation layer of your application from the logic layer.\n",
    "        This makes your code more modular and easier to maintain.\n",
    "        \n",
    "        \n",
    "        \n",
    "      render_template() function is used to render a template in Flask.\n",
    "           It takes two arguments: the name of the template file,\n",
    "            and a dictionary of variables that you want to pass to the template.\n",
    "             The template file will be rendered with the variables, and the output will be returned as a string.\n",
    "            \n",
    "from flask import Flask\n",
    "\n",
    "app = Flask(__name__)\n",
    "\n",
    "@app.route(\"/\")\n",
    "def index():\n",
    "    user = \"Bard\"\n",
    "    return render_template(\"index.html\", user=user)\n",
    "\n",
    "if __name__ == \"__main__\":\n",
    "    app.run(debug=True)            \n",
    "    \n",
    "    \n",
    "    example, the index() route will render the index.html template.\n",
    "     The render_template() function will pass the user variable to the template,\n",
    "         so the template will be able to display the user's name.\n",
    "        \n",
    "        \n",
    "     render_template() function is a very powerful tool that can be used to render dynamic content\n",
    "                      in Flask. It is a central part of Flask, and it is used in almost every Flask application.\n",
    "        \n",
    "    \n",
    "    \n",
    "     some of the benefits of using templates in Flask:\n",
    "            \n",
    "            \n",
    "    \n",
    "    >Templates make your code more modular and easier to maintain.\n",
    "    >Templates can be used to reuse code.\n",
    "    >Templates can be used to internationalize your application.\n",
    "    >Templates can be used to create a consistent look and feel for your application.\n"
   ]
  },
  {
   "cell_type": "markdown",
   "id": "576f15e7-e72f-427c-9e7d-6ca4adec0826",
   "metadata": {},
   "source": [
    "Q5. Create a simple API. Use Postman to test it. Attach the screenshot of the output in the Jupyter Notebook."
   ]
  },
  {
   "cell_type": "code",
   "execution_count": null,
   "id": "f36d0414-e570-4cf0-afc8-b7c6e8864317",
   "metadata": {},
   "outputs": [],
   "source": [
    "from flask import Flask\n",
    "\n",
    "app = Flask(__name__)\n",
    "\n",
    "@app.route(\"/hello\")\n",
    "def hello():\n",
    "    name = request.args.get(\"name\")\n",
    "    if name is None:\n",
    "        name = \"World\"\n",
    "    return \"Hello, {}!\".format(name)\n",
    "\n",
    "if __name__ == \"__main__\":\n",
    "    app.run(host=\"0.0.0.0\")"
   ]
  },
  {
   "cell_type": "markdown",
   "id": "d965803b-eff6-4efa-b06a-0da44e6a4b79",
   "metadata": {},
   "source": [
    "  This API has a single route, /hello, which takes a name parameter as a query parameter.\n",
    "    If the name parameter is not provided, the default value of \"World\" is used.\n",
    "    The API returns a string that says \"Hello, {}!\", where {} is the value of the name parameter.\n",
    "    This API has a single route, /hello, which takes a name parameter as a query parameter\n",
    "    If the name parameter is not provided, the default value of \"World\" is used. \n",
    "    The API returns a string that says \"Hello, {}!\", where {} is the value of the name para\n",
    "    \n",
    "    \n",
    "    \n",
    "    link:-https://yellow-scientist-ledfr.pwskills.app:5000/welcome\n",
    "    \n"
   ]
  },
  {
   "cell_type": "code",
   "execution_count": null,
   "id": "b462c040-86a3-40f8-ac37-872c67d19a1a",
   "metadata": {},
   "outputs": [],
   "source": []
  }
 ],
 "metadata": {
  "kernelspec": {
   "display_name": "Python 3 (ipykernel)",
   "language": "python",
   "name": "python3"
  },
  "language_info": {
   "codemirror_mode": {
    "name": "ipython",
    "version": 3
   },
   "file_extension": ".py",
   "mimetype": "text/x-python",
   "name": "python",
   "nbconvert_exporter": "python",
   "pygments_lexer": "ipython3",
   "version": "3.10.8"
  }
 },
 "nbformat": 4,
 "nbformat_minor": 5
}
